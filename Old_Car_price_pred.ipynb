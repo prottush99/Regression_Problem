{
 "cells": [
  {
   "cell_type": "markdown",
   "id": "8267742e-1739-419a-923f-f5a3d54c2151",
   "metadata": {},
   "source": [
    "# Old Car Price Prediction"
   ]
  },
  {
   "cell_type": "code",
   "execution_count": 1,
   "id": "7c974eae-e48d-4c71-a4f5-53d78fadce97",
   "metadata": {},
   "outputs": [],
   "source": [
    "# Importing libraries\n",
    "import pandas as pd\n",
    "import matplotlib.pyplot as plt\n",
    "import seaborn as sns\n",
    "from sklearn.preprocessing import LabelEncoder"
   ]
  },
  {
   "cell_type": "code",
   "execution_count": 2,
   "id": "8a50cb24-9ade-4b47-98f8-4cadc7a76720",
   "metadata": {},
   "outputs": [
    {
     "data": {
      "text/html": [
       "<div>\n",
       "<style scoped>\n",
       "    .dataframe tbody tr th:only-of-type {\n",
       "        vertical-align: middle;\n",
       "    }\n",
       "\n",
       "    .dataframe tbody tr th {\n",
       "        vertical-align: top;\n",
       "    }\n",
       "\n",
       "    .dataframe thead th {\n",
       "        text-align: right;\n",
       "    }\n",
       "</style>\n",
       "<table border=\"1\" class=\"dataframe\">\n",
       "  <thead>\n",
       "    <tr style=\"text-align: right;\">\n",
       "      <th></th>\n",
       "      <th>Car_Name</th>\n",
       "      <th>Year</th>\n",
       "      <th>Selling_Price</th>\n",
       "      <th>Present_Price</th>\n",
       "      <th>Kms_Driven</th>\n",
       "      <th>Fuel_Type</th>\n",
       "      <th>Seller_Type</th>\n",
       "      <th>Transmission</th>\n",
       "      <th>Owner</th>\n",
       "    </tr>\n",
       "  </thead>\n",
       "  <tbody>\n",
       "    <tr>\n",
       "      <th>0</th>\n",
       "      <td>ritz</td>\n",
       "      <td>2014</td>\n",
       "      <td>3.35</td>\n",
       "      <td>5.59</td>\n",
       "      <td>27000</td>\n",
       "      <td>Petrol</td>\n",
       "      <td>Dealer</td>\n",
       "      <td>Manual</td>\n",
       "      <td>0</td>\n",
       "    </tr>\n",
       "    <tr>\n",
       "      <th>1</th>\n",
       "      <td>sx4</td>\n",
       "      <td>2013</td>\n",
       "      <td>4.75</td>\n",
       "      <td>9.54</td>\n",
       "      <td>43000</td>\n",
       "      <td>Diesel</td>\n",
       "      <td>Dealer</td>\n",
       "      <td>Manual</td>\n",
       "      <td>0</td>\n",
       "    </tr>\n",
       "    <tr>\n",
       "      <th>2</th>\n",
       "      <td>ciaz</td>\n",
       "      <td>2017</td>\n",
       "      <td>7.25</td>\n",
       "      <td>9.85</td>\n",
       "      <td>6900</td>\n",
       "      <td>Petrol</td>\n",
       "      <td>Dealer</td>\n",
       "      <td>Manual</td>\n",
       "      <td>0</td>\n",
       "    </tr>\n",
       "    <tr>\n",
       "      <th>3</th>\n",
       "      <td>wagon r</td>\n",
       "      <td>2011</td>\n",
       "      <td>2.85</td>\n",
       "      <td>4.15</td>\n",
       "      <td>5200</td>\n",
       "      <td>Petrol</td>\n",
       "      <td>Dealer</td>\n",
       "      <td>Manual</td>\n",
       "      <td>0</td>\n",
       "    </tr>\n",
       "    <tr>\n",
       "      <th>4</th>\n",
       "      <td>swift</td>\n",
       "      <td>2014</td>\n",
       "      <td>4.60</td>\n",
       "      <td>6.87</td>\n",
       "      <td>42450</td>\n",
       "      <td>Diesel</td>\n",
       "      <td>Dealer</td>\n",
       "      <td>Manual</td>\n",
       "      <td>0</td>\n",
       "    </tr>\n",
       "  </tbody>\n",
       "</table>\n",
       "</div>"
      ],
      "text/plain": [
       "  Car_Name  Year  Selling_Price  Present_Price  Kms_Driven Fuel_Type  \\\n",
       "0     ritz  2014           3.35           5.59       27000    Petrol   \n",
       "1      sx4  2013           4.75           9.54       43000    Diesel   \n",
       "2     ciaz  2017           7.25           9.85        6900    Petrol   \n",
       "3  wagon r  2011           2.85           4.15        5200    Petrol   \n",
       "4    swift  2014           4.60           6.87       42450    Diesel   \n",
       "\n",
       "  Seller_Type Transmission  Owner  \n",
       "0      Dealer       Manual      0  \n",
       "1      Dealer       Manual      0  \n",
       "2      Dealer       Manual      0  \n",
       "3      Dealer       Manual      0  \n",
       "4      Dealer       Manual      0  "
      ]
     },
     "execution_count": 2,
     "metadata": {},
     "output_type": "execute_result"
    }
   ],
   "source": [
    "# Reading the dataset\n",
    "df=pd.read_csv(r'C:\\Users\\ntpc\\Desktop\\car_prediction_data.csv')\n",
    "df.head()"
   ]
  },
  {
   "cell_type": "code",
   "execution_count": 3,
   "id": "d76a8b3a-18b2-48fe-af45-8377c68f7ebc",
   "metadata": {},
   "outputs": [
    {
     "data": {
      "text/plain": [
       "Car_Name         0\n",
       "Year             0\n",
       "Selling_Price    0\n",
       "Present_Price    0\n",
       "Kms_Driven       0\n",
       "Fuel_Type        0\n",
       "Seller_Type      0\n",
       "Transmission     0\n",
       "Owner            0\n",
       "dtype: int64"
      ]
     },
     "execution_count": 3,
     "metadata": {},
     "output_type": "execute_result"
    }
   ],
   "source": [
    "## Checking missing value\n",
    "df.isnull().sum()"
   ]
  },
  {
   "cell_type": "code",
   "execution_count": 4,
   "id": "432579ae-c393-4eca-baa5-7edea9b38632",
   "metadata": {},
   "outputs": [
    {
     "data": {
      "text/plain": [
       "Car_Name          object\n",
       "Year               int64\n",
       "Selling_Price    float64\n",
       "Present_Price    float64\n",
       "Kms_Driven         int64\n",
       "Fuel_Type         object\n",
       "Seller_Type       object\n",
       "Transmission      object\n",
       "Owner              int64\n",
       "dtype: object"
      ]
     },
     "execution_count": 4,
     "metadata": {},
     "output_type": "execute_result"
    }
   ],
   "source": [
    "# checking datatypes for each column name\n",
    "df.dtypes"
   ]
  },
  {
   "cell_type": "markdown",
   "id": "31c652b3-6237-4183-9c71-b5660ffa1c82",
   "metadata": {},
   "source": [
    "## Now converting Categorical columns to numerical using Label Encoder"
   ]
  },
  {
   "cell_type": "markdown",
   "id": "4c91d9da-98eb-4373-865e-709d18270377",
   "metadata": {},
   "source": [
    "### Car_Name          "
   ]
  },
  {
   "cell_type": "code",
   "execution_count": 5,
   "id": "b3ea5982-3805-422f-a1c8-596f0b6678ee",
   "metadata": {},
   "outputs": [],
   "source": [
    "car_name_le=LabelEncoder()\n",
    "df['Car_Name']=car_name_le.fit_transform(df['Car_Name'])"
   ]
  },
  {
   "cell_type": "markdown",
   "id": "2188033b-e0e6-4163-bca0-feb534e857f4",
   "metadata": {},
   "source": [
    "### Fuel_Type"
   ]
  },
  {
   "cell_type": "code",
   "execution_count": 6,
   "id": "b18deb0e-b4a9-4f11-8f2d-51fb84ce5627",
   "metadata": {},
   "outputs": [],
   "source": [
    "Fuel_Type_le=LabelEncoder()\n",
    "df['Fuel_Type']=Fuel_Type_le.fit_transform(df['Fuel_Type'])"
   ]
  },
  {
   "cell_type": "markdown",
   "id": "14748fa4-1a6e-4520-b537-3cffe2b71424",
   "metadata": {},
   "source": [
    "### Seller_Type"
   ]
  },
  {
   "cell_type": "code",
   "execution_count": 7,
   "id": "eea5de4a-2412-4268-8eb4-1295a0c0c389",
   "metadata": {},
   "outputs": [],
   "source": [
    "Seller_Type_le=LabelEncoder()\n",
    "df['Seller_Type']=Seller_Type_le.fit_transform(df['Seller_Type'])"
   ]
  },
  {
   "cell_type": "markdown",
   "id": "c7653d83-a44b-4a27-bf80-c17ce5165282",
   "metadata": {},
   "source": [
    "### Transmission"
   ]
  },
  {
   "cell_type": "code",
   "execution_count": 8,
   "id": "e9809af3-48c5-44f8-afeb-f0f8f80fedc8",
   "metadata": {},
   "outputs": [],
   "source": [
    "Transmission_le=LabelEncoder()\n",
    "df['Transmission']=Transmission_le.fit_transform(df['Transmission'])"
   ]
  },
  {
   "cell_type": "code",
   "execution_count": 9,
   "id": "ccb7361a-b66e-4523-b8d3-e52d34cebafc",
   "metadata": {},
   "outputs": [
    {
     "data": {
      "text/html": [
       "<div>\n",
       "<style scoped>\n",
       "    .dataframe tbody tr th:only-of-type {\n",
       "        vertical-align: middle;\n",
       "    }\n",
       "\n",
       "    .dataframe tbody tr th {\n",
       "        vertical-align: top;\n",
       "    }\n",
       "\n",
       "    .dataframe thead th {\n",
       "        text-align: right;\n",
       "    }\n",
       "</style>\n",
       "<table border=\"1\" class=\"dataframe\">\n",
       "  <thead>\n",
       "    <tr style=\"text-align: right;\">\n",
       "      <th></th>\n",
       "      <th>Car_Name</th>\n",
       "      <th>Year</th>\n",
       "      <th>Selling_Price</th>\n",
       "      <th>Present_Price</th>\n",
       "      <th>Kms_Driven</th>\n",
       "      <th>Fuel_Type</th>\n",
       "      <th>Seller_Type</th>\n",
       "      <th>Transmission</th>\n",
       "      <th>Owner</th>\n",
       "    </tr>\n",
       "  </thead>\n",
       "  <tbody>\n",
       "    <tr>\n",
       "      <th>0</th>\n",
       "      <td>90</td>\n",
       "      <td>2014</td>\n",
       "      <td>3.35</td>\n",
       "      <td>5.59</td>\n",
       "      <td>27000</td>\n",
       "      <td>2</td>\n",
       "      <td>0</td>\n",
       "      <td>1</td>\n",
       "      <td>0</td>\n",
       "    </tr>\n",
       "    <tr>\n",
       "      <th>1</th>\n",
       "      <td>93</td>\n",
       "      <td>2013</td>\n",
       "      <td>4.75</td>\n",
       "      <td>9.54</td>\n",
       "      <td>43000</td>\n",
       "      <td>1</td>\n",
       "      <td>0</td>\n",
       "      <td>1</td>\n",
       "      <td>0</td>\n",
       "    </tr>\n",
       "    <tr>\n",
       "      <th>2</th>\n",
       "      <td>68</td>\n",
       "      <td>2017</td>\n",
       "      <td>7.25</td>\n",
       "      <td>9.85</td>\n",
       "      <td>6900</td>\n",
       "      <td>2</td>\n",
       "      <td>0</td>\n",
       "      <td>1</td>\n",
       "      <td>0</td>\n",
       "    </tr>\n",
       "    <tr>\n",
       "      <th>3</th>\n",
       "      <td>96</td>\n",
       "      <td>2011</td>\n",
       "      <td>2.85</td>\n",
       "      <td>4.15</td>\n",
       "      <td>5200</td>\n",
       "      <td>2</td>\n",
       "      <td>0</td>\n",
       "      <td>1</td>\n",
       "      <td>0</td>\n",
       "    </tr>\n",
       "    <tr>\n",
       "      <th>4</th>\n",
       "      <td>92</td>\n",
       "      <td>2014</td>\n",
       "      <td>4.60</td>\n",
       "      <td>6.87</td>\n",
       "      <td>42450</td>\n",
       "      <td>1</td>\n",
       "      <td>0</td>\n",
       "      <td>1</td>\n",
       "      <td>0</td>\n",
       "    </tr>\n",
       "  </tbody>\n",
       "</table>\n",
       "</div>"
      ],
      "text/plain": [
       "   Car_Name  Year  Selling_Price  Present_Price  Kms_Driven  Fuel_Type  \\\n",
       "0        90  2014           3.35           5.59       27000          2   \n",
       "1        93  2013           4.75           9.54       43000          1   \n",
       "2        68  2017           7.25           9.85        6900          2   \n",
       "3        96  2011           2.85           4.15        5200          2   \n",
       "4        92  2014           4.60           6.87       42450          1   \n",
       "\n",
       "   Seller_Type  Transmission  Owner  \n",
       "0            0             1      0  \n",
       "1            0             1      0  \n",
       "2            0             1      0  \n",
       "3            0             1      0  \n",
       "4            0             1      0  "
      ]
     },
     "execution_count": 9,
     "metadata": {},
     "output_type": "execute_result"
    }
   ],
   "source": [
    "df.head()"
   ]
  },
  {
   "cell_type": "markdown",
   "id": "71d96790-ad41-488a-b8cd-56feb56fc3b8",
   "metadata": {},
   "source": [
    "## Separating features and target variable"
   ]
  },
  {
   "cell_type": "code",
   "execution_count": 10,
   "id": "3db30ab4-d7ab-4266-836f-ca7201df86ce",
   "metadata": {},
   "outputs": [],
   "source": [
    "X = df.drop('Selling_Price', axis=1)\n",
    "y = df['Selling_Price']"
   ]
  },
  {
   "cell_type": "code",
   "execution_count": 11,
   "id": "9bcce280-e96c-4264-8dcd-f7971db8d929",
   "metadata": {},
   "outputs": [],
   "source": [
    "from sklearn.preprocessing import StandardScaler"
   ]
  },
  {
   "cell_type": "code",
   "execution_count": 12,
   "id": "53b088ae-a23d-4076-b83b-05634bfe42e7",
   "metadata": {},
   "outputs": [],
   "source": [
    "ss=StandardScaler()\n",
    "X= pd.DataFrame(ss.fit_transform(X),columns=X.columns)"
   ]
  },
  {
   "cell_type": "code",
   "execution_count": 13,
   "id": "70718900-05eb-49d7-aab0-55f849450053",
   "metadata": {},
   "outputs": [],
   "source": [
    "from sklearn.model_selection import train_test_split"
   ]
  },
  {
   "cell_type": "code",
   "execution_count": 14,
   "id": "5524cc6f-1dc5-41a5-92e2-f1722cdbf17c",
   "metadata": {},
   "outputs": [],
   "source": [
    "# Splitting the data into training and testing sets\n",
    "X_train, X_test, y_train, y_test = train_test_split(X, y, test_size=0.2, random_state=42)"
   ]
  },
  {
   "cell_type": "code",
   "execution_count": 15,
   "id": "f55c6654-39e5-43b6-9eaf-e8118202c891",
   "metadata": {},
   "outputs": [],
   "source": [
    "## Applying various ML models to deal with this regression type of problem\n",
    "from sklearn.linear_model import LinearRegression,Lasso,Ridge,ElasticNet\n",
    "from sklearn.tree import DecisionTreeRegressor\n",
    "from sklearn.svm import SVR\n",
    "from sklearn.neighbors import KNeighborsRegressor\n",
    "from sklearn.ensemble import RandomForestRegressor"
   ]
  },
  {
   "cell_type": "code",
   "execution_count": 16,
   "id": "f02eee0e-7e21-4287-9bee-7b816e169e01",
   "metadata": {},
   "outputs": [],
   "source": [
    "from sklearn.metrics import mean_squared_error,mean_absolute_error"
   ]
  },
  {
   "cell_type": "code",
   "execution_count": 17,
   "id": "06b2da37-3a66-444c-8d0e-3a25334f16ac",
   "metadata": {},
   "outputs": [
    {
     "data": {
      "text/plain": [
       "(88.40630578239453, 84.65539666857805)"
      ]
     },
     "execution_count": 17,
     "metadata": {},
     "output_type": "execute_result"
    }
   ],
   "source": [
    "lr=LinearRegression()\n",
    "lr.fit(X_train,y_train)\n",
    "lr.score(X_train,y_train)*100,lr.score(X_test,y_test)*100"
   ]
  },
  {
   "cell_type": "code",
   "execution_count": 18,
   "id": "cc6274fb-682e-4934-b527-d707eb2dd004",
   "metadata": {},
   "outputs": [
    {
     "data": {
      "text/plain": [
       "(88.35433202380113, 84.42023265451037)"
      ]
     },
     "execution_count": 18,
     "metadata": {},
     "output_type": "execute_result"
    }
   ],
   "source": [
    "lr1=Lasso(alpha=0.05)\n",
    "lr1.fit(X_train,y_train)\n",
    "lr1.score(X_train,y_train)*100,lr1.score(X_test,y_test)*100"
   ]
  },
  {
   "cell_type": "code",
   "execution_count": 19,
   "id": "180571cf-fe4a-4f44-81d5-069e070e7354",
   "metadata": {},
   "outputs": [
    {
     "data": {
      "text/plain": [
       "(88.40630230556692, 84.65323174459922)"
      ]
     },
     "execution_count": 19,
     "metadata": {},
     "output_type": "execute_result"
    }
   ],
   "source": [
    "lr2=Ridge(alpha=0.05)\n",
    "lr2.fit(X_train,y_train)\n",
    "lr2.score(X_train,y_train)*100,lr2.score(X_test,y_test)*100"
   ]
  },
  {
   "cell_type": "code",
   "execution_count": 20,
   "id": "7e0709f1-f8e4-4c28-89c9-d5143d5aa01e",
   "metadata": {},
   "outputs": [
    {
     "data": {
      "text/plain": [
       "(88.33239931760652, 84.24688675401035)"
      ]
     },
     "execution_count": 20,
     "metadata": {},
     "output_type": "execute_result"
    }
   ],
   "source": [
    "lr3=ElasticNet(alpha=0.05)\n",
    "lr3.fit(X_train,y_train)\n",
    "lr3.score(X_train,y_train)*100,lr3.score(X_test,y_test)*100"
   ]
  },
  {
   "cell_type": "code",
   "execution_count": 21,
   "id": "850daeb3-71f2-40ed-ad65-45a48961f358",
   "metadata": {},
   "outputs": [
    {
     "data": {
      "text/plain": [
       "(99.96116535900154, 94.77674801512742)"
      ]
     },
     "execution_count": 21,
     "metadata": {},
     "output_type": "execute_result"
    }
   ],
   "source": [
    "dt=DecisionTreeRegressor(max_depth=10)\n",
    "dt.fit(X_train,y_train)\n",
    "dt.score(X_train,y_train)*100,dt.score(X_test,y_test)*100"
   ]
  },
  {
   "cell_type": "code",
   "execution_count": 22,
   "id": "1009cbef-1b59-40c5-8e0f-85540bf92e39",
   "metadata": {},
   "outputs": [
    {
     "data": {
      "text/plain": [
       "(1.2032066256830605, 0.6830054644808742)"
      ]
     },
     "execution_count": 22,
     "metadata": {},
     "output_type": "execute_result"
    }
   ],
   "source": [
    "mean_squared_error(y_test,dt.predict(X_test)),mean_absolute_error(y_test,dt.predict(X_test))"
   ]
  },
  {
   "cell_type": "code",
   "execution_count": 23,
   "id": "d05bce95-4ad1-456a-8c9a-7c9c6f3be30f",
   "metadata": {},
   "outputs": [
    {
     "data": {
      "text/plain": [
       "(98.1835007242522, 95.7721695448578)"
      ]
     },
     "execution_count": 23,
     "metadata": {},
     "output_type": "execute_result"
    }
   ],
   "source": [
    "rf=RandomForestRegressor(n_estimators=100)\n",
    "rf.fit(X_train,y_train)\n",
    "rf.score(X_train,y_train)*100,rf.score(X_test,y_test)*100"
   ]
  },
  {
   "cell_type": "code",
   "execution_count": 24,
   "id": "faaecb40-b76b-423c-96f2-bf63772d13f1",
   "metadata": {},
   "outputs": [
    {
     "data": {
      "text/plain": [
       "(0.9739054578688531, 0.6012016393442626)"
      ]
     },
     "execution_count": 24,
     "metadata": {},
     "output_type": "execute_result"
    }
   ],
   "source": [
    "mean_squared_error(y_test,rf.predict(X_test)),mean_absolute_error(y_test,rf.predict(X_test))"
   ]
  },
  {
   "cell_type": "code",
   "execution_count": 25,
   "id": "f37e422d-cdb9-4175-b753-516c84990c87",
   "metadata": {},
   "outputs": [
    {
     "data": {
      "text/plain": [
       "(66.00840380338376, 78.48466914602926)"
      ]
     },
     "execution_count": 25,
     "metadata": {},
     "output_type": "execute_result"
    }
   ],
   "source": [
    "sv=SVR()\n",
    "sv.fit(X_train,y_train)\n",
    "sv.score(X_train,y_train)*100,sv.score(X_test,y_test)*100"
   ]
  },
  {
   "cell_type": "code",
   "execution_count": 26,
   "id": "dda3fd17-d1f9-4c5d-83b6-7e1cc4cb5486",
   "metadata": {},
   "outputs": [
    {
     "data": {
      "text/plain": [
       "(94.44132806227177, 93.19938751062641)"
      ]
     },
     "execution_count": 26,
     "metadata": {},
     "output_type": "execute_result"
    }
   ],
   "source": [
    "kn=KNeighborsRegressor(n_neighbors=3)\n",
    "kn.fit(X_train,y_train)\n",
    "kn.score(X_train,y_train)*100,kn.score(X_test,y_test)*100"
   ]
  },
  {
   "cell_type": "code",
   "execution_count": 27,
   "id": "be04307b-88a5-4aff-a689-74f7a2d3a7ce",
   "metadata": {},
   "outputs": [
    {
     "data": {
      "text/plain": [
       "(1.5665608378870677, 0.763551912568306)"
      ]
     },
     "execution_count": 27,
     "metadata": {},
     "output_type": "execute_result"
    }
   ],
   "source": [
    "mean_squared_error(y_test,kn.predict(X_test)),mean_absolute_error(y_test,kn.predict(X_test))"
   ]
  },
  {
   "cell_type": "code",
   "execution_count": 28,
   "id": "e161ab00-017d-4c90-ae23-3a0572c440cc",
   "metadata": {},
   "outputs": [
    {
     "name": "stderr",
     "output_type": "stream",
     "text": [
      "C:\\Python312\\Lib\\site-packages\\sklearn\\base.py:493: UserWarning: X does not have valid feature names, but RandomForestRegressor was fitted with feature names\n",
      "  warnings.warn(\n"
     ]
    },
    {
     "data": {
      "text/plain": [
       "array([0.4399])"
      ]
     },
     "execution_count": 28,
     "metadata": {},
     "output_type": "execute_result"
    }
   ],
   "source": [
    "# Now applying testing\n",
    "rf.predict([[-1.275759 ,\t0.821718 ,\t-0.817924 ,\t-0.333500 ,\t0.500183 ,\t1.356327 ,\t-2.554408 ,\t-0.174501]])"
   ]
  },
  {
   "cell_type": "code",
   "execution_count": 29,
   "id": "d82d30ce-4ba2-47dc-8b7b-9ea4c34a404b",
   "metadata": {},
   "outputs": [],
   "source": [
    "new_data=pd.DataFrame([['ritz',2014,5.59,27000,\t'Petrol','Dealer','Manual',0]],columns=X_train.columns)"
   ]
  },
  {
   "cell_type": "code",
   "execution_count": 30,
   "id": "6de9289c-cf96-4799-a654-2779e7415e00",
   "metadata": {},
   "outputs": [],
   "source": [
    "new_data['Car_Name']=car_name_le.transform(new_data['Car_Name'])\n",
    "new_data['Fuel_Type']=Fuel_Type_le.transform(new_data['Fuel_Type'])\n",
    "new_data['Seller_Type']=Seller_Type_le.transform(new_data['Seller_Type'])\n",
    "new_data['Transmission']=Transmission_le.transform(new_data['Transmission'])"
   ]
  },
  {
   "cell_type": "code",
   "execution_count": 31,
   "id": "ccacce00-8d89-4034-919c-6b255c163d62",
   "metadata": {},
   "outputs": [],
   "source": [
    "#Scaling the values for new data\n",
    "new_data=pd.DataFrame(ss.transform(new_data),columns=new_data.columns)"
   ]
  },
  {
   "cell_type": "code",
   "execution_count": 32,
   "id": "28085b67-2694-4c30-81ec-d9b3d6e74392",
   "metadata": {},
   "outputs": [
    {
     "data": {
      "text/plain": [
       "array([3.9155])"
      ]
     },
     "execution_count": 32,
     "metadata": {},
     "output_type": "execute_result"
    }
   ],
   "source": [
    "rf.predict(new_data)"
   ]
  },
  {
   "cell_type": "code",
   "execution_count": 33,
   "id": "fae7aa6b-baaa-4104-9699-2805beefd667",
   "metadata": {},
   "outputs": [
    {
     "data": {
      "image/png": "[encoded data removed]",
      "text/plain": [
       "<Figure size 800x800 with 1 Axes>"
      ]
     },
     "metadata": {},
     "output_type": "display_data"
    }
   ],
   "source": [
    "## Now Visualizing the ML models\n",
    "# Calculate accuracy scores\n",
    "lr_train_score = lr.score(X_train, y_train) * 100\n",
    "lr_test_score = lr.score(X_test, y_test) * 100\n",
    "\n",
    "dt_train_score = dt.score(X_train, y_train) * 100\n",
    "dt_test_score = dt.score(X_test, y_test) * 100\n",
    "\n",
    "rf_train_score = rf.score(X_train, y_train) * 100\n",
    "rf_test_score = rf.score(X_test, y_test) * 100\n",
    "\n",
    "# Labels and corresponding scores for the pie chart\n",
    "labels = ['LR Train', 'LR Test', 'DT Train', 'DT Test', 'RF Train', 'RF Test']\n",
    "scores = [lr_train_score, lr_test_score, dt_train_score, dt_test_score, rf_train_score, rf_test_score]\n",
    "\n",
    "# Create a pie chart\n",
    "plt.figure(figsize=(8, 8))\n",
    "plt.pie(scores, labels=labels, autopct='%1.1f%%', startangle=140)\n",
    "plt.title('Accuracy Scores of Regression Models')\n",
    "plt.axis('equal')  # Equal aspect ratio ensures that pie is drawn as a circle.\n",
    "\n",
    "# Display the pie chart\n",
    "plt.show()"
   ]
  },
  {
   "cell_type": "code",
   "execution_count": 34,
   "id": "40f7e9c5-d784-4632-a1ce-63401ac9f517",
   "metadata": {},
   "outputs": [
    {
     "data": {
      "image/png": "[encoded data removed]",
      "text/plain": [
       "<Figure size 1000x1200 with 2 Axes>"
      ]
     },
     "metadata": {},
     "output_type": "display_data"
    }
   ],
   "source": [
    "# Calculate MSE and MAE for each model\n",
    "dt_mse = mean_squared_error(y_test, dt.predict(X_test))\n",
    "dt_mae = mean_absolute_error(y_test, dt.predict(X_test))\n",
    "\n",
    "rf_mse = mean_squared_error(y_test, rf.predict(X_test))\n",
    "rf_mae = mean_absolute_error(y_test, rf.predict(X_test))\n",
    "\n",
    "lr_mse = mean_squared_error(y_test, lr.predict(X_test))\n",
    "lr_mae = mean_absolute_error(y_test, lr.predict(X_test))\n",
    "\n",
    "# Labels and corresponding error metrics for the pie charts\n",
    "models = ['Decision Tree', 'Random Forest', 'Linear Regression']\n",
    "mse_values = [dt_mse, rf_mse, lr_mse]\n",
    "mae_values = [dt_mae, rf_mae, lr_mae]\n",
    "\n",
    "# Create pie charts for MSE and MAE\n",
    "fig, axs = plt.subplots(2, 1, figsize=(10, 12))\n",
    "\n",
    "# Pie chart for MSE\n",
    "axs[0].pie(mse_values, labels=models, autopct='%1.1f%%', startangle=140)\n",
    "axs[0].set_title('Mean Squared Error (MSE) of Regression Models on Test Data')\n",
    "\n",
    "# Pie chart for MAE\n",
    "axs[1].pie(mae_values, labels=models, autopct='%1.1f%%', startangle=140)\n",
    "axs[1].set_title('Mean Absolute Error (MAE) of Regression Models on Test Data')\n",
    "\n",
    "# Display the pie charts\n",
    "plt.show()"
   ]
  },
  {
   "cell_type": "markdown",
   "id": "7d0becc3-b7b0-4c8f-9bcd-3542395f9535",
   "metadata": {},
   "source": [
    "## Conclusion : Among all these Random Forest Gives Better accuracy score with low error"
   ]
  }
 ],
 "metadata": {
  "kernelspec": {
   "display_name": "Python 3 (ipykernel)",
   "language": "python",
   "name": "python3"
  },
  "language_info": {
   "codemirror_mode": {
    "name": "ipython",
    "version": 3
   },
   "file_extension": ".py",
   "mimetype": "text/x-python",
   "name": "python",
   "nbconvert_exporter": "python",
   "pygments_lexer": "ipython3",
   "version": "3.12.2"
  }
 },
 "nbformat": 4,
 "nbformat_minor": 5
}
